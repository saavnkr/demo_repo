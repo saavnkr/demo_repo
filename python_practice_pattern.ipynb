{
  "cells": [
    {
      "cell_type": "markdown",
      "metadata": {
        "colab_type": "text",
        "id": "view-in-github"
      },
      "source": [
        "<a href=\"https://colab.research.google.com/github/saavnkr/demo_repo/blob/main/python_practice_pattern.ipynb\" target=\"_parent\"><img src=\"https://colab.research.google.com/assets/colab-badge.svg\" alt=\"Open In Colab\"/></a>"
      ]
    },
    {
      "cell_type": "markdown",
      "metadata": {
        "id": "Qm3RjwTlLTTW"
      },
      "source": [
        "##adding a sample change to learn github\n",
        "##printing prime numbers in an interval"
      ]
    },
    {
      "cell_type": "code",
      "execution_count": null,
      "metadata": {
        "id": "FwzuL1EWLcME"
      },
      "outputs": [],
      "source": [
        "l=int(input(\"Enter the lower limit\"))\n",
        "u=int(input(\"Enter the upper limit\"))\n",
        "\n",
        "#to check prime number in an interval\n",
        "for num in range(l,u+1):\n",
        "  if num>1:\n",
        "    for i in range(2,num):\n",
        "      if(num%i)==0:\n",
        "        break\n",
        "    else:\n",
        "        print(num)\n"
      ]
    },
    {
      "cell_type": "markdown",
      "metadata": {
        "id": "L9OSGnUyNHbG"
      },
      "source": [
        "#to check a given number is a perfect no\n",
        "perfect numbers are those numbers = (sum of all positive divisors)/2\n",
        "eg 6,"
      ]
    },
    {
      "cell_type": "code",
      "execution_count": null,
      "metadata": {
        "id": "VLS99P_YNcJ-"
      },
      "outputs": [],
      "source": [
        "import math\n",
        "\n",
        "n=int(input(\"Enter no.: \"))\n",
        "# div=list(math.divisor)\n",
        "\n",
        "def get_divisors(n):\n",
        "    for i in range(1, int(n / 2) + 1):\n",
        "        if n % i == 0:\n",
        "            yield i\n",
        "    yield n\n",
        "\n",
        "# print(list(get_divisors(8)))\n",
        "div=list(get_divisors(n))\n",
        "if n==sum(div)/2:\n",
        "  print(f'{n} is a perfect number')\n",
        "else:\n",
        "  print(f'{n} is not a perfect number')"
      ]
    },
    {
      "cell_type": "markdown",
      "metadata": {
        "id": "9HioHbRPxBqv"
      },
      "source": [
        "##armstrong numbers"
      ]
    },
    {
      "cell_type": "code",
      "execution_count": null,
      "metadata": {
        "id": "hTPY_7kLxGWf"
      },
      "outputs": [],
      "source": [
        "num=int(input(\"Enter your number:\"))\n",
        "# for i in range(1001):\n",
        "i=num\n",
        "result=0\n",
        "n=len(str(i))\n",
        "while(i!=0):\n",
        "  digit= i%10\n",
        "  result= result+digit**n\n",
        "  i=i//10\n",
        "if num==result:\n",
        "  print(f'{num} is an armstrong number')\n",
        "else:\n",
        "  print(f'{num} is not an armstrong number')"
      ]
    },
    {
      "cell_type": "code",
      "execution_count": null,
      "metadata": {
        "id": "drBecN-R59ZD"
      },
      "outputs": [],
      "source": [
        "n=int(input(\"enter no of rows:\"))\n",
        "for i in range(1,n+1):\n",
        "  for j in range(1,i+1):\n",
        "    print(i,end=\"\")\n",
        "  print()"
      ]
    },
    {
      "cell_type": "code",
      "execution_count": null,
      "metadata": {
        "id": "uYoSV3em7RxN"
      },
      "outputs": [],
      "source": [
        "n=int(input(\"enter no of rows:\"))\n",
        "for rows in range(n):\n",
        "  for col in range(n):\n",
        "    if col==0 or col==rows or rows==(n-1):\n",
        "      print(\"*\",end=\"\")\n",
        "    else:\n",
        "      print(end=\" \")\n",
        "  print()"
      ]
    },
    {
      "cell_type": "code",
      "execution_count": null,
      "metadata": {
        "id": "TcjutRri80oM"
      },
      "outputs": [],
      "source": [
        "num=int(input(\"enter a no\"))\n",
        "\n",
        "def fact(num):\n",
        "  result=1\n",
        "  for i in range(1,num+1):\n",
        "    result=result*i\n",
        "  return result\n",
        "\n",
        "print(fact(num))\n",
        "fact(4)\n"
      ]
    },
    {
      "cell_type": "markdown",
      "metadata": {
        "id": "SoQYWSTC7Hh2"
      },
      "source": [
        "##class and inheritance"
      ]
    },
    {
      "cell_type": "code",
      "execution_count": null,
      "metadata": {
        "id": "70OaBXIw7MDB"
      },
      "outputs": [],
      "source": [
        "class Employee:\n",
        "  def __init__(self,name,age,post):    #constructer\n",
        "    self.name=name\n",
        "    self.age=age\n",
        "    self.post=post\n",
        "  def employee_details(self):\n",
        "    print(\"name of employee is:\",self.name)\n",
        "    print(\"age is:\",self.age)\n",
        "    print(\"post is:\",self.post)"
      ]
    },
    {
      "cell_type": "code",
      "execution_count": null,
      "metadata": {
        "id": "bIRzi2KO9DRl"
      },
      "outputs": [],
      "source": [
        "e1=Employee(\"Tony Stark\",35,\"Iron man\")\n",
        "e2=Employee(\"Steve Rogers\",45,\"Captain america\")\n",
        "e1.employee_details()\n",
        "print()\n",
        "e2.employee_details()\n"
      ]
    },
    {
      "cell_type": "code",
      "execution_count": null,
      "metadata": {
        "id": "v-cgmWf2B-ao"
      },
      "outputs": [],
      "source": [
        "class Soft_dep(Employee):\n",
        "  def Soft_dep_details(self):\n",
        "    print(\"details from child class\")"
      ]
    },
    {
      "cell_type": "code",
      "execution_count": null,
      "metadata": {
        "id": "COftoPdeCXFN"
      },
      "outputs": [],
      "source": [
        "e3=Soft_dep(\"Scarlett\",28,\"special ability\")\n",
        "e3.employee_details()\n",
        "print()\n",
        "e3.Soft_dep_details()"
      ]
    }
  ],
  "metadata": {
    "colab": {
      "authorship_tag": "ABX9TyOsyhdT40VrhjNJ5p2XmdYG",
      "include_colab_link": true,
      "name": "python_practice_pattern.ipynb",
      "provenance": []
    },
    "kernelspec": {
      "display_name": "Python 3",
      "name": "python3"
    },
    "language_info": {
      "name": "python"
    }
  },
  "nbformat": 4,
  "nbformat_minor": 0
}
