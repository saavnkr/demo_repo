{
  "nbformat": 4,
  "nbformat_minor": 0,
  "metadata": {
    "colab": {
      "name": "python_practice_pattern.ipynb",
      "provenance": [],
      "authorship_tag": "ABX9TyOsyhdT40VrhjNJ5p2XmdYG",
      "include_colab_link": true
    },
    "kernelspec": {
      "name": "python3",
      "display_name": "Python 3"
    },
    "language_info": {
      "name": "python"
    }
  },
  "cells": [
    {
      "cell_type": "markdown",
      "metadata": {
        "id": "view-in-github",
        "colab_type": "text"
      },
      "source": [
        "<a href=\"https://colab.research.google.com/github/saavnkr/demo_repo/blob/main/python_practice_pattern.ipynb\" target=\"_parent\"><img src=\"https://colab.research.google.com/assets/colab-badge.svg\" alt=\"Open In Colab\"/></a>"
      ]
    },
    {
      "cell_type": "markdown",
      "source": [
        "##printing prime numbers in an interval"
      ],
      "metadata": {
        "id": "Qm3RjwTlLTTW"
      }
    },
    {
      "cell_type": "code",
      "source": [
        "l=int(input(\"Enter the lower limit\"))\n",
        "u=int(input(\"Enter the upper limit\"))\n",
        "\n",
        "for num in range(l,u+1):\n",
        "  if num>1:\n",
        "    for i in range(2,num):\n",
        "      if(num%i)==0:\n",
        "        break\n",
        "    else:\n",
        "        print(num)\n"
      ],
      "metadata": {
        "id": "FwzuL1EWLcME"
      },
      "execution_count": null,
      "outputs": []
    },
    {
      "cell_type": "markdown",
      "source": [
        "#to check a given number is a perfect no\n",
        "perfect numbers are those numbers = (sum of all positive divisors)/2\n",
        "eg 6,"
      ],
      "metadata": {
        "id": "L9OSGnUyNHbG"
      }
    },
    {
      "cell_type": "code",
      "source": [
        "import math\n",
        "\n",
        "n=int(input(\"Enter no.: \"))\n",
        "# div=list(math.divisor)\n",
        "\n",
        "def get_divisors(n):\n",
        "    for i in range(1, int(n / 2) + 1):\n",
        "        if n % i == 0:\n",
        "            yield i\n",
        "    yield n\n",
        "\n",
        "# print(list(get_divisors(8)))\n",
        "div=list(get_divisors(n))\n",
        "if n==sum(div)/2:\n",
        "  print(f'{n} is a perfect number')\n",
        "else:\n",
        "  print(f'{n} is not a perfect number')"
      ],
      "metadata": {
        "id": "VLS99P_YNcJ-"
      },
      "execution_count": null,
      "outputs": []
    },
    {
      "cell_type": "markdown",
      "source": [
        "##armstrong numbers"
      ],
      "metadata": {
        "id": "9HioHbRPxBqv"
      }
    },
    {
      "cell_type": "code",
      "source": [
        "num=int(input(\"Enter your number:\"))\n",
        "# for i in range(1001):\n",
        "i=num\n",
        "result=0\n",
        "n=len(str(i))\n",
        "while(i!=0):\n",
        "  digit= i%10\n",
        "  result= result+digit**n\n",
        "  i=i//10\n",
        "if num==result:\n",
        "  print(f'{num} is an armstrong number')\n",
        "else:\n",
        "  print(f'{num} is not an armstrong number')"
      ],
      "metadata": {
        "id": "hTPY_7kLxGWf"
      },
      "execution_count": null,
      "outputs": []
    },
    {
      "cell_type": "code",
      "source": [
        "n=int(input(\"enter no of rows:\"))\n",
        "for i in range(1,n+1):\n",
        "  for j in range(1,i+1):\n",
        "    print(i,end=\"\")\n",
        "  print()"
      ],
      "metadata": {
        "id": "drBecN-R59ZD"
      },
      "execution_count": null,
      "outputs": []
    },
    {
      "cell_type": "code",
      "source": [
        "n=int(input(\"enter no of rows:\"))\n",
        "for rows in range(n):\n",
        "  for col in range(n):\n",
        "    if col==0 or col==rows or rows==(n-1):\n",
        "      print(\"*\",end=\"\")\n",
        "    else:\n",
        "      print(end=\" \")\n",
        "  print()"
      ],
      "metadata": {
        "id": "uYoSV3em7RxN"
      },
      "execution_count": null,
      "outputs": []
    },
    {
      "cell_type": "code",
      "source": [
        "num=int(input(\"enter a no\"))\n",
        "\n",
        "def fact(num):\n",
        "  result=1\n",
        "  for i in range(1,num+1):\n",
        "    result=result*i\n",
        "  return result\n",
        "\n",
        "print(fact(num))\n",
        "fact(4)\n"
      ],
      "metadata": {
        "id": "TcjutRri80oM"
      },
      "execution_count": null,
      "outputs": []
    },
    {
      "cell_type": "markdown",
      "source": [
        "##class and inheritance"
      ],
      "metadata": {
        "id": "SoQYWSTC7Hh2"
      }
    },
    {
      "cell_type": "code",
      "source": [
        "class Employee:\n",
        "  def __init__(self,name,age,post):    #constructer\n",
        "    self.name=name\n",
        "    self.age=age\n",
        "    self.post=post\n",
        "  def employee_details(self):\n",
        "    print(\"name of employee is:\",self.name)\n",
        "    print(\"age is:\",self.age)\n",
        "    print(\"post is:\",self.post)"
      ],
      "metadata": {
        "id": "70OaBXIw7MDB"
      },
      "execution_count": null,
      "outputs": []
    },
    {
      "cell_type": "code",
      "source": [
        "e1=Employee(\"Tony Stark\",35,\"Iron man\")\n",
        "e2=Employee(\"Steve Rogers\",45,\"Captain america\")\n",
        "e1.employee_details()\n",
        "print()\n",
        "e2.employee_details()\n"
      ],
      "metadata": {
        "id": "bIRzi2KO9DRl"
      },
      "execution_count": null,
      "outputs": []
    },
    {
      "cell_type": "code",
      "source": [
        "class Soft_dep(Employee):\n",
        "  def Soft_dep_details(self):\n",
        "    print(\"details from child class\")"
      ],
      "metadata": {
        "id": "v-cgmWf2B-ao"
      },
      "execution_count": null,
      "outputs": []
    },
    {
      "cell_type": "code",
      "source": [
        "e3=Soft_dep(\"Scarlett\",28,\"special ability\")\n",
        "e3.employee_details()\n",
        "print()\n",
        "e3.Soft_dep_details()"
      ],
      "metadata": {
        "id": "COftoPdeCXFN"
      },
      "execution_count": null,
      "outputs": []
    }
  ]
}